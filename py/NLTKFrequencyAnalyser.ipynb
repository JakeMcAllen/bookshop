{
  "cells": [
    {
      "cell_type": "code",
      "execution_count": 2,
      "metadata": {
        "colab": {
          "base_uri": "https://localhost:8080/"
        },
        "id": "MwdaslfQUlEY",
        "outputId": "f8d0c8b7-2e42-4c0d-8221-b620f863ce62"
      },
      "outputs": [
        {
          "name": "stdout",
          "output_type": "stream",
          "text": [
            "Requirement already satisfied: nltk in c:\\python312\\lib\\site-packages (3.8.2)\n",
            "Requirement already satisfied: click in c:\\python312\\lib\\site-packages (from nltk) (8.1.7)\n",
            "Requirement already satisfied: joblib in c:\\python312\\lib\\site-packages (from nltk) (1.4.2)\n",
            "Requirement already satisfied: regex>=2021.8.3 in c:\\python312\\lib\\site-packages (from nltk) (2024.7.24)\n",
            "Requirement already satisfied: tqdm in c:\\python312\\lib\\site-packages (from nltk) (4.66.5)\n",
            "Requirement already satisfied: colorama in c:\\users\\giuli\\appdata\\roaming\\python\\python312\\site-packages (from click->nltk) (0.4.6)\n"
          ]
        },
        {
          "name": "stderr",
          "output_type": "stream",
          "text": [
            "\n",
            "[notice] A new release of pip is available: 24.0 -> 24.2\n",
            "[notice] To update, run: python.exe -m pip install --upgrade pip\n"
          ]
        },
        {
          "name": "stdout",
          "output_type": "stream",
          "text": [
            "Requirement already satisfied: mysql-connector-python in c:\\python312\\lib\\site-packages (9.0.0)\n"
          ]
        },
        {
          "name": "stderr",
          "output_type": "stream",
          "text": [
            "\n",
            "[notice] A new release of pip is available: 24.0 -> 24.2\n",
            "[notice] To update, run: python.exe -m pip install --upgrade pip\n"
          ]
        }
      ],
      "source": [
        "!pip install nltk\n",
        "!pip install mysql-connector-python"
      ]
    },
    {
      "cell_type": "markdown",
      "metadata": {
        "id": "ebe2DFbTk0KC"
      },
      "source": [
        "# Summarizer"
      ]
    },
    {
      "cell_type": "code",
      "execution_count": 15,
      "metadata": {
        "colab": {
          "base_uri": "https://localhost:8080/"
        },
        "id": "aHf6VHxwYObl",
        "outputId": "1ee8f564-3c34-4346-c27c-c6a16cfac2b2"
      },
      "outputs": [
        {
          "name": "stderr",
          "output_type": "stream",
          "text": [
            "[nltk_data] Downloading package stopwords to\n",
            "[nltk_data]     C:\\Users\\giuli\\AppData\\Roaming\\nltk_data...\n",
            "[nltk_data]   Package stopwords is already up-to-date!\n",
            "[nltk_data] Downloading package punkt to\n",
            "[nltk_data]     C:\\Users\\giuli\\AppData\\Roaming\\nltk_data...\n",
            "[nltk_data]   Package punkt is already up-to-date!\n",
            "[nltk_data] Downloading package punkt_tab to\n",
            "[nltk_data]     C:\\Users\\giuli\\AppData\\Roaming\\nltk_data...\n",
            "[nltk_data]   Unzipping tokenizers\\punkt_tab.zip.\n"
          ]
        },
        {
          "data": {
            "text/plain": [
              "True"
            ]
          },
          "execution_count": 15,
          "metadata": {},
          "output_type": "execute_result"
        }
      ],
      "source": [
        "from nltk.corpus import stopwords\n",
        "from nltk.tokenize import word_tokenize, sent_tokenize\n",
        "import nltk\n",
        "\n",
        "\n",
        "nltk.download('stopwords')\n",
        "nltk.download(\"punkt\")\n",
        "nltk.download('punkt_tab')"
      ]
    },
    {
      "cell_type": "code",
      "execution_count": 16,
      "metadata": {
        "id": "eQmW2nADcDsX"
      },
      "outputs": [],
      "source": [
        "def getsentenceValue(freqTable):\n",
        "  sentenceValue = dict()\n",
        "  for sentence in sent_tokenize(text):\n",
        "    for word, freq in freqTable.items():\n",
        "      if word in sentence.lower():\n",
        "        if sentence in sentenceValue: sentenceValue[sentence] += freq\n",
        "        else: sentenceValue[sentence] = freq\n",
        "  return sentenceValue\n",
        "\n",
        "def getSumValues(sentenceValue):\n",
        "  sumValues = 0\n",
        "  for sentence in sentenceValue:\n",
        "    sumValues += sentenceValue[sentence]\n",
        "\n",
        "  average = int(sumValues / len(sentenceValue))\n",
        "  return average\n",
        "\n"
      ]
    },
    {
      "cell_type": "code",
      "execution_count": 32,
      "metadata": {
        "id": "628QcNP7c-oJ"
      },
      "outputs": [],
      "source": [
        "def summaryManager(text_to_summarize):\n",
        "  freqTable = dict()\n",
        "  summary = ''\n",
        "\n",
        "  for word in word_tokenize(text_to_summarize):\n",
        "    word = word.lower()\n",
        "    if word in set(stopwords.words(\"english\")): continue\n",
        "    if word in freqTable: freqTable[word] += 1\n",
        "    else: freqTable[word] = 1\n",
        "\n",
        "\n",
        "\n",
        "  sentenceValue = getsentenceValue(freqTable)\n",
        "  print(f\"sentenceValue: {sentenceValue} -- {sentenceValue == {}}\")\n",
        "  if sentenceValue == {}: return text_to_summarize\n",
        "\n",
        "  average = getSumValues(sentenceValue)\n",
        "  # print(average)\n",
        "\n",
        "\n",
        "  for sentence in sent_tokenize(text_to_summarize):\n",
        "    if (sentence in sentenceValue) and (sentenceValue[sentence] > (1.2 * average)):\n",
        "      summary += \" \" + sentence\n",
        "\n",
        "  return summary"
      ]
    },
    {
      "cell_type": "code",
      "execution_count": 33,
      "metadata": {
        "colab": {
          "base_uri": "https://localhost:8080/"
        },
        "id": "0Cie44ARaLlq",
        "outputId": "c0771e66-f395-497d-b42f-a9fa6d7127ab"
      },
      "outputs": [
        {
          "name": "stdout",
          "output_type": "stream",
          "text": [
            "sentenceValue: {\"L'avvento dell'intelligenza artificiale (IA) ha rivoluzionato numerosi settori, dalla medicina all'industria automobilistica.\": 109, 'Ma le sue radici affondano in un passato più remoto di quanto si possa immaginare.': 71, \"Uno dei primi esempi di come la macchina potesse assistere l'uomo nella risoluzione di problemi complessi risale alla Seconda Guerra Mondiale.\": 98, 'La macchina Enigma, utilizzata dai nazisti per criptare le comunicazioni, rappresentava una delle sfide più ardue per gli alleati.': 102, \"La sua complessità, con milioni di possibili configurazioni, rendeva la decifrazione un'impresa titanica.\": 107, \"Tuttavia, un gruppo di crittoanalisti, guidati dall'eccentrico Alan Turing, riuscì nell'impresa di costruire una macchina, chiamata Colossus, in grado di decifrare i messaggi nemici.\": 122, \"Colossus, considerata il primo computer elettronico programmabile, era un'anteprima di ciò che sarebbe diventata l'IA.\": 106, \"La sua capacità di eseguire calcoli complessi a una velocità inimmaginabile per l'epoca permise di abbattere il muro di cifratura nazista, accelerando così la fine della guerra.\": 133, \"Oggi, le tecniche di apprendimento automatico, un sottocampo dell'IA, sono utilizzate per affrontare problemi simili, ma su scala molto più vasta.\": 133, 'Gli algoritmi di machine learning sono in grado di individuare pattern complessi in enormi quantità di dati, una capacità che si rivela fondamentale in settori come la finanza, la sicurezza informatica e la ricerca scientifica.': 138, \"Tuttavia, mentre Colossus era progettata per un compito specifico, l'IA moderna è molto più versatile.\": 90, 'Le reti neurali artificiali, ispirate al funzionamento del cervello umano, sono in grado di apprendere da esempi e generalizzare a nuovi dati.': 104, 'Questa capacità ha aperto le porte a una miriade di applicazioni, dalla traduzione automatica alla generazione di testi creativi.': 122, \"È interessante notare come l'obiettivo iniziale di decifrare un codice segreto si sia evoluto in una disciplina che mira a imitare l'intelligenza umana.\": 87, \"L'eredità di Alan Turing e di Colossus continua a ispirare i ricercatori di oggi, che lavorano per sviluppare macchine sempre più intelligenti e in grado di risolvere problemi sempre più complessi.\": 138} -- False\n",
            " La sua capacità di eseguire calcoli complessi a una velocità inimmaginabile per l'epoca permise di abbattere il muro di cifratura nazista, accelerando così la fine della guerra. Oggi, le tecniche di apprendimento automatico, un sottocampo dell'IA, sono utilizzate per affrontare problemi simili, ma su scala molto più vasta. Gli algoritmi di machine learning sono in grado di individuare pattern complessi in enormi quantità di dati, una capacità che si rivela fondamentale in settori come la finanza, la sicurezza informatica e la ricerca scientifica. L'eredità di Alan Turing e di Colossus continua a ispirare i ricercatori di oggi, che lavorano per sviluppare macchine sempre più intelligenti e in grado di risolvere problemi sempre più complessi.\n"
          ]
        }
      ],
      "source": [
        "text = \"\"\"L'avvento dell'intelligenza artificiale (IA) ha rivoluzionato numerosi settori, dalla medicina all'industria automobilistica. Ma le sue radici affondano in un passato più remoto di quanto si possa immaginare. Uno dei primi esempi di come la macchina potesse assistere l'uomo nella risoluzione di problemi complessi risale alla Seconda Guerra Mondiale.\n",
        "\n",
        "La macchina Enigma, utilizzata dai nazisti per criptare le comunicazioni, rappresentava una delle sfide più ardue per gli alleati. La sua complessità, con milioni di possibili configurazioni, rendeva la decifrazione un'impresa titanica. Tuttavia, un gruppo di crittoanalisti, guidati dall'eccentrico Alan Turing, riuscì nell'impresa di costruire una macchina, chiamata Colossus, in grado di decifrare i messaggi nemici.\n",
        "\n",
        "Colossus, considerata il primo computer elettronico programmabile, era un'anteprima di ciò che sarebbe diventata l'IA. La sua capacità di eseguire calcoli complessi a una velocità inimmaginabile per l'epoca permise di abbattere il muro di cifratura nazista, accelerando così la fine della guerra.\n",
        "\n",
        "Oggi, le tecniche di apprendimento automatico, un sottocampo dell'IA, sono utilizzate per affrontare problemi simili, ma su scala molto più vasta. Gli algoritmi di machine learning sono in grado di individuare pattern complessi in enormi quantità di dati, una capacità che si rivela fondamentale in settori come la finanza, la sicurezza informatica e la ricerca scientifica.\n",
        "\n",
        "Tuttavia, mentre Colossus era progettata per un compito specifico, l'IA moderna è molto più versatile. Le reti neurali artificiali, ispirate al funzionamento del cervello umano, sono in grado di apprendere da esempi e generalizzare a nuovi dati. Questa capacità ha aperto le porte a una miriade di applicazioni, dalla traduzione automatica alla generazione di testi creativi.\n",
        "\n",
        "È interessante notare come l'obiettivo iniziale di decifrare un codice segreto si sia evoluto in una disciplina che mira a imitare l'intelligenza umana. L'eredità di Alan Turing e di Colossus continua a ispirare i ricercatori di oggi, che lavorano per sviluppare macchine sempre più intelligenti e in grado di risolvere problemi sempre più complessi.\"\"\"\n",
        "\n",
        "\n",
        "\n",
        "\n",
        "print( summaryManager(text) )"
      ]
    },
    {
      "cell_type": "markdown",
      "metadata": {
        "id": "shTZQg73k4BI"
      },
      "source": [
        "# DB manager\n",
        "\n",
        "\n",
        "https://www.w3schools.com/python/python_mysql_getstarted.asp"
      ]
    },
    {
      "cell_type": "code",
      "execution_count": 37,
      "metadata": {
        "id": "t8X1azcyiZuO"
      },
      "outputs": [],
      "source": [
        "import mysql.connector\n",
        "\n",
        "# Connection\n",
        "mydb = mysql.connector.connect(\n",
        "  host=\"localhost\",\n",
        "  user=\"root\",\n",
        "  port=\"3307\",\n",
        "  password=\"root\",\n",
        "  database=\"bookshop_db\"\n",
        ")\n",
        "\n",
        "\n",
        "# Get list of book to create summary\n",
        "mycursor = mydb.cursor()\n",
        "mycursor.execute(\"SELECT idBook, Description FROM book WHERE reassume IS NULL;\")\n",
        "myresult = mycursor.fetchall()\n",
        "\n",
        "\n",
        "# sql = \"UPDATE book SET reassume=NULL WHERE idBook = 16;\"\n",
        "# mycursor.execute(sql)\n",
        "# mydb.commit()\n",
        "\n",
        "for i in range(len(myresult)):\n",
        "  print(myresult[i][1])\n",
        "  summary = summaryManager(myresult[i][1])\n",
        "  print(\"result\")\n",
        "\n",
        "  # Insert SUMMARY\n",
        "  sql = \"UPDATE book SET reassume='\" + summary + \"' WHERE idBook = \" + str(myresult[i][0]) + \";\"\n",
        "  mycursor.execute(sql)\n",
        "  mydb.commit()\n",
        "\n",
        "\n",
        "mydb.close()"
      ]
    }
  ],
  "metadata": {
    "colab": {
      "provenance": [],
      "toc_visible": true
    },
    "kernelspec": {
      "display_name": "Python 3",
      "name": "python3"
    },
    "language_info": {
      "codemirror_mode": {
        "name": "ipython",
        "version": 3
      },
      "file_extension": ".py",
      "mimetype": "text/x-python",
      "name": "python",
      "nbconvert_exporter": "python",
      "pygments_lexer": "ipython3",
      "version": "3.12.4"
    }
  },
  "nbformat": 4,
  "nbformat_minor": 0
}
