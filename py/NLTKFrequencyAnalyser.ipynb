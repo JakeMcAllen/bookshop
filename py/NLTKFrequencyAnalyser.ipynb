{
  "cells": [
    {
      "cell_type": "code",
      "execution_count": 5,
      "metadata": {
        "colab": {
          "base_uri": "https://localhost:8080/"
        },
        "id": "MwdaslfQUlEY",
        "outputId": "f8d0c8b7-2e42-4c0d-8221-b620f863ce62"
      },
      "outputs": [
        {
          "name": "stdout",
          "output_type": "stream",
          "text": [
            "Requirement already satisfied: nltk in c:\\python312\\lib\\site-packages (3.8.2)\n",
            "Requirement already satisfied: click in c:\\python312\\lib\\site-packages (from nltk) (8.1.7)\n",
            "Requirement already satisfied: joblib in c:\\python312\\lib\\site-packages (from nltk) (1.4.2)\n",
            "Requirement already satisfied: regex>=2021.8.3 in c:\\python312\\lib\\site-packages (from nltk) (2024.7.24)\n",
            "Requirement already satisfied: tqdm in c:\\python312\\lib\\site-packages (from nltk) (4.66.5)\n",
            "Requirement already satisfied: colorama in c:\\users\\giuli\\appdata\\roaming\\python\\python312\\site-packages (from click->nltk) (0.4.6)\n"
          ]
        },
        {
          "name": "stderr",
          "output_type": "stream",
          "text": [
            "\n",
            "[notice] A new release of pip is available: 24.0 -> 24.2\n",
            "[notice] To update, run: python.exe -m pip install --upgrade pip\n"
          ]
        },
        {
          "name": "stdout",
          "output_type": "stream",
          "text": [
            "Requirement already satisfied: mysql-connector-python in c:\\python312\\lib\\site-packages (9.0.0)\n"
          ]
        },
        {
          "name": "stderr",
          "output_type": "stream",
          "text": [
            "\n",
            "[notice] A new release of pip is available: 24.0 -> 24.2\n",
            "[notice] To update, run: python.exe -m pip install --upgrade pip\n"
          ]
        }
      ],
      "source": [
        "!pip install nltk\n",
        "!pip install mysql-connector-python"
      ]
    },
    {
      "cell_type": "markdown",
      "metadata": {
        "id": "ebe2DFbTk0KC"
      },
      "source": [
        "# Summarizer"
      ]
    },
    {
      "cell_type": "code",
      "execution_count": 6,
      "metadata": {
        "colab": {
          "base_uri": "https://localhost:8080/"
        },
        "id": "aHf6VHxwYObl",
        "outputId": "1ee8f564-3c34-4346-c27c-c6a16cfac2b2"
      },
      "outputs": [
        {
          "name": "stderr",
          "output_type": "stream",
          "text": [
            "[nltk_data] Downloading package stopwords to\n",
            "[nltk_data]     C:\\Users\\giuli\\AppData\\Roaming\\nltk_data...\n",
            "[nltk_data]   Package stopwords is already up-to-date!\n",
            "[nltk_data] Downloading package punkt to\n",
            "[nltk_data]     C:\\Users\\giuli\\AppData\\Roaming\\nltk_data...\n",
            "[nltk_data]   Package punkt is already up-to-date!\n",
            "[nltk_data] Downloading package punkt_tab to\n",
            "[nltk_data]     C:\\Users\\giuli\\AppData\\Roaming\\nltk_data...\n",
            "[nltk_data]   Package punkt_tab is already up-to-date!\n"
          ]
        },
        {
          "data": {
            "text/plain": [
              "True"
            ]
          },
          "execution_count": 6,
          "metadata": {},
          "output_type": "execute_result"
        }
      ],
      "source": [
        "from nltk.corpus import stopwords\n",
        "from nltk.tokenize import word_tokenize, sent_tokenize\n",
        "import nltk\n",
        "\n",
        "\n",
        "nltk.download('stopwords')\n",
        "nltk.download(\"punkt\")\n",
        "nltk.download('punkt_tab')"
      ]
    },
    {
      "cell_type": "code",
      "execution_count": 7,
      "metadata": {
        "id": "eQmW2nADcDsX"
      },
      "outputs": [],
      "source": [
        "def getsentenceValue(freqTable, text_to_summarize):\n",
        "  sentenceValue = dict()\n",
        "  for sentence in sent_tokenize(text_to_summarize):\n",
        "    for word, freq in freqTable.items():\n",
        "      if word in sentence.lower():\n",
        "        if sentence in sentenceValue: sentenceValue[sentence] += freq\n",
        "        else: sentenceValue[sentence] = freq\n",
        "  return sentenceValue\n",
        "\n",
        "def getSumValues(sentenceValue):\n",
        "  sumValues = 0\n",
        "  for sentence in sentenceValue:\n",
        "    sumValues += sentenceValue[sentence]\n",
        "\n",
        "  average = int(sumValues / len(sentenceValue))\n",
        "  return average\n",
        "\n"
      ]
    },
    {
      "cell_type": "code",
      "execution_count": 8,
      "metadata": {
        "id": "628QcNP7c-oJ"
      },
      "outputs": [],
      "source": [
        "def summaryManager(text_to_summarize):\n",
        "  freqTable = dict()\n",
        "  summary = ''\n",
        "\n",
        "  for word in word_tokenize(text_to_summarize):\n",
        "    word = word.lower()\n",
        "    if word in set(stopwords.words(\"english\")): continue\n",
        "    if word in freqTable: freqTable[word] += 1\n",
        "    else: freqTable[word] = 1\n",
        "\n",
        "\n",
        "\n",
        "  sentenceValue = getsentenceValue(freqTable, text_to_summarize)\n",
        "  print(f\"sentenceValue: {sentenceValue} -- {sentenceValue == {}}\")\n",
        "  if sentenceValue == {}: return text_to_summarize\n",
        "\n",
        "  average = getSumValues(sentenceValue)\n",
        "  # print(average)\n",
        "\n",
        "\n",
        "  for sentence in sent_tokenize(text_to_summarize):\n",
        "    if (sentence in sentenceValue) and (sentenceValue[sentence] > (1.2 * average)):\n",
        "      summary += \" \" + sentence\n",
        "\n",
        "  return summary"
      ]
    },
    {
      "cell_type": "code",
      "execution_count": 9,
      "metadata": {
        "colab": {
          "base_uri": "https://localhost:8080/"
        },
        "id": "0Cie44ARaLlq",
        "outputId": "c0771e66-f395-497d-b42f-a9fa6d7127ab"
      },
      "outputs": [
        {
          "name": "stdout",
          "output_type": "stream",
          "text": [
            "sentenceValue: {\"L'avvento dell'intelligenza artificiale (IA) ha rivoluzionato numerosi settori, dalla medicina all'industria automobilistica.\": 109, 'Ma le sue radici affondano in un passato più remoto di quanto si possa immaginare.': 71, \"Uno dei primi esempi di come la macchina potesse assistere l'uomo nella risoluzione di problemi complessi risale alla Seconda Guerra Mondiale.\": 98, 'La macchina Enigma, utilizzata dai nazisti per criptare le comunicazioni, rappresentava una delle sfide più ardue per gli alleati.': 102, \"La sua complessità, con milioni di possibili configurazioni, rendeva la decifrazione un'impresa titanica.\": 107, \"Tuttavia, un gruppo di crittoanalisti, guidati dall'eccentrico Alan Turing, riuscì nell'impresa di costruire una macchina, chiamata Colossus, in grado di decifrare i messaggi nemici.\": 122, \"Colossus, considerata il primo computer elettronico programmabile, era un'anteprima di ciò che sarebbe diventata l'IA.\": 106, \"La sua capacità di eseguire calcoli complessi a una velocità inimmaginabile per l'epoca permise di abbattere il muro di cifratura nazista, accelerando così la fine della guerra.\": 133, \"Oggi, le tecniche di apprendimento automatico, un sottocampo dell'IA, sono utilizzate per affrontare problemi simili, ma su scala molto più vasta.\": 133, 'Gli algoritmi di machine learning sono in grado di individuare pattern complessi in enormi quantità di dati, una capacità che si rivela fondamentale in settori come la finanza, la sicurezza informatica e la ricerca scientifica.': 138, \"Tuttavia, mentre Colossus era progettata per un compito specifico, l'IA moderna è molto più versatile.\": 90, 'Le reti neurali artificiali, ispirate al funzionamento del cervello umano, sono in grado di apprendere da esempi e generalizzare a nuovi dati.': 104, 'Questa capacità ha aperto le porte a una miriade di applicazioni, dalla traduzione automatica alla generazione di testi creativi.': 122, \"È interessante notare come l'obiettivo iniziale di decifrare un codice segreto si sia evoluto in una disciplina che mira a imitare l'intelligenza umana.\": 87, \"L'eredità di Alan Turing e di Colossus continua a ispirare i ricercatori di oggi, che lavorano per sviluppare macchine sempre più intelligenti e in grado di risolvere problemi sempre più complessi.\": 138} -- False\n",
            " La sua capacità di eseguire calcoli complessi a una velocità inimmaginabile per l'epoca permise di abbattere il muro di cifratura nazista, accelerando così la fine della guerra. Oggi, le tecniche di apprendimento automatico, un sottocampo dell'IA, sono utilizzate per affrontare problemi simili, ma su scala molto più vasta. Gli algoritmi di machine learning sono in grado di individuare pattern complessi in enormi quantità di dati, una capacità che si rivela fondamentale in settori come la finanza, la sicurezza informatica e la ricerca scientifica. L'eredità di Alan Turing e di Colossus continua a ispirare i ricercatori di oggi, che lavorano per sviluppare macchine sempre più intelligenti e in grado di risolvere problemi sempre più complessi.\n"
          ]
        }
      ],
      "source": [
        "text = \"\"\"L'avvento dell'intelligenza artificiale (IA) ha rivoluzionato numerosi settori, dalla medicina all'industria automobilistica. Ma le sue radici affondano in un passato più remoto di quanto si possa immaginare. Uno dei primi esempi di come la macchina potesse assistere l'uomo nella risoluzione di problemi complessi risale alla Seconda Guerra Mondiale.\n",
        "\n",
        "La macchina Enigma, utilizzata dai nazisti per criptare le comunicazioni, rappresentava una delle sfide più ardue per gli alleati. La sua complessità, con milioni di possibili configurazioni, rendeva la decifrazione un'impresa titanica. Tuttavia, un gruppo di crittoanalisti, guidati dall'eccentrico Alan Turing, riuscì nell'impresa di costruire una macchina, chiamata Colossus, in grado di decifrare i messaggi nemici.\n",
        "\n",
        "Colossus, considerata il primo computer elettronico programmabile, era un'anteprima di ciò che sarebbe diventata l'IA. La sua capacità di eseguire calcoli complessi a una velocità inimmaginabile per l'epoca permise di abbattere il muro di cifratura nazista, accelerando così la fine della guerra.\n",
        "\n",
        "Oggi, le tecniche di apprendimento automatico, un sottocampo dell'IA, sono utilizzate per affrontare problemi simili, ma su scala molto più vasta. Gli algoritmi di machine learning sono in grado di individuare pattern complessi in enormi quantità di dati, una capacità che si rivela fondamentale in settori come la finanza, la sicurezza informatica e la ricerca scientifica.\n",
        "\n",
        "Tuttavia, mentre Colossus era progettata per un compito specifico, l'IA moderna è molto più versatile. Le reti neurali artificiali, ispirate al funzionamento del cervello umano, sono in grado di apprendere da esempi e generalizzare a nuovi dati. Questa capacità ha aperto le porte a una miriade di applicazioni, dalla traduzione automatica alla generazione di testi creativi.\n",
        "\n",
        "È interessante notare come l'obiettivo iniziale di decifrare un codice segreto si sia evoluto in una disciplina che mira a imitare l'intelligenza umana. L'eredità di Alan Turing e di Colossus continua a ispirare i ricercatori di oggi, che lavorano per sviluppare macchine sempre più intelligenti e in grado di risolvere problemi sempre più complessi.\"\"\"\n",
        "\n",
        "\n",
        "\n",
        "\n",
        "print( summaryManager(text) )"
      ]
    },
    {
      "cell_type": "markdown",
      "metadata": {
        "id": "shTZQg73k4BI"
      },
      "source": [
        "# DB manager"
      ]
    },
    {
      "cell_type": "code",
      "execution_count": 12,
      "metadata": {
        "id": "t8X1azcyiZuO"
      },
      "outputs": [
        {
          "name": "stdout",
          "output_type": "stream",
          "text": [
            "0\n",
            "sentenceValue: {'From Richard Lyntton, an explosive international thriller featuring British journalist, veteran tank commander, and trained killer (retired), Jack Steele.': 37, 'An unimaginable nuclear disaster.': 8, 'Thousands of lives are at stake.': 8, 'One man can prevent it ... as a global conspiracy plots his assassination.': 13, 'Set in London, Moscow, Vladivostok, and Pyongyang buckle up for this gripping, action-packed thriller of international intrigue, espionage, suspense, and deceit.': 32} -- False\n"
          ]
        },
        {
          "ename": "DatabaseError",
          "evalue": "1205 (HY000): Lock wait timeout exceeded; try restarting transaction",
          "output_type": "error",
          "traceback": [
            "\u001b[1;31m---------------------------------------------------------------------------\u001b[0m",
            "\u001b[1;31mMySQLInterfaceError\u001b[0m                       Traceback (most recent call last)",
            "File \u001b[1;32mc:\\Python312\\Lib\\site-packages\\mysql\\connector\\connection_cext.py:705\u001b[0m, in \u001b[0;36mCMySQLConnection.cmd_query\u001b[1;34m(self, query, raw, buffered, raw_as_string)\u001b[0m\n\u001b[0;32m    704\u001b[0m         query \u001b[38;5;241m=\u001b[39m query\u001b[38;5;241m.\u001b[39mencode(\u001b[38;5;124m\"\u001b[39m\u001b[38;5;124mutf-8\u001b[39m\u001b[38;5;124m\"\u001b[39m)\n\u001b[1;32m--> 705\u001b[0m     \u001b[38;5;28;43mself\u001b[39;49m\u001b[38;5;241;43m.\u001b[39;49m\u001b[43m_cmysql\u001b[49m\u001b[38;5;241;43m.\u001b[39;49m\u001b[43mquery\u001b[49m\u001b[43m(\u001b[49m\n\u001b[0;32m    706\u001b[0m \u001b[43m        \u001b[49m\u001b[43mquery\u001b[49m\u001b[43m,\u001b[49m\n\u001b[0;32m    707\u001b[0m \u001b[43m        \u001b[49m\u001b[43mraw\u001b[49m\u001b[38;5;241;43m=\u001b[39;49m\u001b[43mraw\u001b[49m\u001b[43m,\u001b[49m\n\u001b[0;32m    708\u001b[0m \u001b[43m        \u001b[49m\u001b[43mbuffered\u001b[49m\u001b[38;5;241;43m=\u001b[39;49m\u001b[43mbuffered\u001b[49m\u001b[43m,\u001b[49m\n\u001b[0;32m    709\u001b[0m \u001b[43m        \u001b[49m\u001b[43mraw_as_string\u001b[49m\u001b[38;5;241;43m=\u001b[39;49m\u001b[43mraw_as_string\u001b[49m\u001b[43m,\u001b[49m\n\u001b[0;32m    710\u001b[0m \u001b[43m        \u001b[49m\u001b[43mquery_attrs\u001b[49m\u001b[38;5;241;43m=\u001b[39;49m\u001b[38;5;28;43mself\u001b[39;49m\u001b[38;5;241;43m.\u001b[39;49m\u001b[43mquery_attrs\u001b[49m\u001b[43m,\u001b[49m\n\u001b[0;32m    711\u001b[0m \u001b[43m    \u001b[49m\u001b[43m)\u001b[49m\n\u001b[0;32m    712\u001b[0m \u001b[38;5;28;01mexcept\u001b[39;00m MySQLInterfaceError \u001b[38;5;28;01mas\u001b[39;00m err:\n",
            "\u001b[1;31mMySQLInterfaceError\u001b[0m: Lock wait timeout exceeded; try restarting transaction",
            "\nThe above exception was the direct cause of the following exception:\n",
            "\u001b[1;31mDatabaseError\u001b[0m                             Traceback (most recent call last)",
            "Cell \u001b[1;32mIn[12], line 28\u001b[0m\n\u001b[0;32m     26\u001b[0m   \u001b[38;5;66;03m# Insert SUMMARY\u001b[39;00m\n\u001b[0;32m     27\u001b[0m   sql \u001b[38;5;241m=\u001b[39m \u001b[38;5;124m'\u001b[39m\u001b[38;5;124mUPDATE book SET reassume=\u001b[39m\u001b[38;5;124m\"\u001b[39m\u001b[38;5;124m'\u001b[39m \u001b[38;5;241m+\u001b[39m summary \u001b[38;5;241m+\u001b[39m \u001b[38;5;124m'\u001b[39m\u001b[38;5;124m\"\u001b[39m\u001b[38;5;124m WHERE idBook = \u001b[39m\u001b[38;5;124m'\u001b[39m \u001b[38;5;241m+\u001b[39m \u001b[38;5;28mstr\u001b[39m(myresult[i][\u001b[38;5;241m0\u001b[39m]) \u001b[38;5;241m+\u001b[39m \u001b[38;5;124m'\u001b[39m\u001b[38;5;124m ;\u001b[39m\u001b[38;5;124m'\u001b[39m\n\u001b[1;32m---> 28\u001b[0m   \u001b[43mmycursor\u001b[49m\u001b[38;5;241;43m.\u001b[39;49m\u001b[43mexecute\u001b[49m\u001b[43m(\u001b[49m\u001b[43msql\u001b[49m\u001b[43m)\u001b[49m\n\u001b[0;32m     29\u001b[0m   mydb\u001b[38;5;241m.\u001b[39mcommit()\n\u001b[0;32m     32\u001b[0m mydb\u001b[38;5;241m.\u001b[39mclose()\n",
            "File \u001b[1;32mc:\\Python312\\Lib\\site-packages\\mysql\\connector\\cursor_cext.py:357\u001b[0m, in \u001b[0;36mCMySQLCursor.execute\u001b[1;34m(self, operation, params, multi)\u001b[0m\n\u001b[0;32m    352\u001b[0m             \u001b[38;5;28;01mraise\u001b[39;00m ProgrammingError(\n\u001b[0;32m    353\u001b[0m                 \u001b[38;5;124m\"\u001b[39m\u001b[38;5;124mNot all parameters were used in the SQL statement\u001b[39m\u001b[38;5;124m\"\u001b[39m\n\u001b[0;32m    354\u001b[0m             )\n\u001b[0;32m    356\u001b[0m \u001b[38;5;28;01mtry\u001b[39;00m:\n\u001b[1;32m--> 357\u001b[0m     result \u001b[38;5;241m=\u001b[39m \u001b[38;5;28;43mself\u001b[39;49m\u001b[38;5;241;43m.\u001b[39;49m\u001b[43m_connection\u001b[49m\u001b[38;5;241;43m.\u001b[39;49m\u001b[43mcmd_query\u001b[49m\u001b[43m(\u001b[49m\n\u001b[0;32m    358\u001b[0m \u001b[43m        \u001b[49m\u001b[43mstmt\u001b[49m\u001b[43m,\u001b[49m\n\u001b[0;32m    359\u001b[0m \u001b[43m        \u001b[49m\u001b[43mraw\u001b[49m\u001b[38;5;241;43m=\u001b[39;49m\u001b[38;5;28;43mself\u001b[39;49m\u001b[38;5;241;43m.\u001b[39;49m\u001b[43m_raw\u001b[49m\u001b[43m,\u001b[49m\n\u001b[0;32m    360\u001b[0m \u001b[43m        \u001b[49m\u001b[43mbuffered\u001b[49m\u001b[38;5;241;43m=\u001b[39;49m\u001b[38;5;28;43mself\u001b[39;49m\u001b[38;5;241;43m.\u001b[39;49m\u001b[43m_buffered\u001b[49m\u001b[43m,\u001b[49m\n\u001b[0;32m    361\u001b[0m \u001b[43m        \u001b[49m\u001b[43mraw_as_string\u001b[49m\u001b[38;5;241;43m=\u001b[39;49m\u001b[38;5;28;43mself\u001b[39;49m\u001b[38;5;241;43m.\u001b[39;49m\u001b[43m_raw_as_string\u001b[49m\u001b[43m,\u001b[49m\n\u001b[0;32m    362\u001b[0m \u001b[43m    \u001b[49m\u001b[43m)\u001b[49m\n\u001b[0;32m    363\u001b[0m \u001b[38;5;28;01mexcept\u001b[39;00m MySQLInterfaceError \u001b[38;5;28;01mas\u001b[39;00m err:\n\u001b[0;32m    364\u001b[0m     \u001b[38;5;28;01mraise\u001b[39;00m get_mysql_exception(\n\u001b[0;32m    365\u001b[0m         msg\u001b[38;5;241m=\u001b[39merr\u001b[38;5;241m.\u001b[39mmsg, errno\u001b[38;5;241m=\u001b[39merr\u001b[38;5;241m.\u001b[39merrno, sqlstate\u001b[38;5;241m=\u001b[39merr\u001b[38;5;241m.\u001b[39msqlstate\n\u001b[0;32m    366\u001b[0m     ) \u001b[38;5;28;01mfrom\u001b[39;00m \u001b[38;5;21;01merr\u001b[39;00m\n",
            "File \u001b[1;32mc:\\Python312\\Lib\\site-packages\\mysql\\connector\\opentelemetry\\context_propagation.py:97\u001b[0m, in \u001b[0;36mwith_context_propagation.<locals>.wrapper\u001b[1;34m(cnx, *args, **kwargs)\u001b[0m\n\u001b[0;32m     95\u001b[0m \u001b[38;5;66;03m# pylint: disable=possibly-used-before-assignment\u001b[39;00m\n\u001b[0;32m     96\u001b[0m \u001b[38;5;28;01mif\u001b[39;00m \u001b[38;5;129;01mnot\u001b[39;00m OTEL_ENABLED \u001b[38;5;129;01mor\u001b[39;00m \u001b[38;5;129;01mnot\u001b[39;00m cnx\u001b[38;5;241m.\u001b[39motel_context_propagation:\n\u001b[1;32m---> 97\u001b[0m     \u001b[38;5;28;01mreturn\u001b[39;00m \u001b[43mmethod\u001b[49m\u001b[43m(\u001b[49m\u001b[43mcnx\u001b[49m\u001b[43m,\u001b[49m\u001b[43m \u001b[49m\u001b[38;5;241;43m*\u001b[39;49m\u001b[43margs\u001b[49m\u001b[43m,\u001b[49m\u001b[43m \u001b[49m\u001b[38;5;241;43m*\u001b[39;49m\u001b[38;5;241;43m*\u001b[39;49m\u001b[43mkwargs\u001b[49m\u001b[43m)\u001b[49m\n\u001b[0;32m     99\u001b[0m current_span \u001b[38;5;241m=\u001b[39m trace\u001b[38;5;241m.\u001b[39mget_current_span()\n\u001b[0;32m    100\u001b[0m tp_header \u001b[38;5;241m=\u001b[39m \u001b[38;5;28;01mNone\u001b[39;00m\n",
            "File \u001b[1;32mc:\\Python312\\Lib\\site-packages\\mysql\\connector\\connection_cext.py:713\u001b[0m, in \u001b[0;36mCMySQLConnection.cmd_query\u001b[1;34m(self, query, raw, buffered, raw_as_string)\u001b[0m\n\u001b[0;32m    705\u001b[0m     \u001b[38;5;28mself\u001b[39m\u001b[38;5;241m.\u001b[39m_cmysql\u001b[38;5;241m.\u001b[39mquery(\n\u001b[0;32m    706\u001b[0m         query,\n\u001b[0;32m    707\u001b[0m         raw\u001b[38;5;241m=\u001b[39mraw,\n\u001b[1;32m   (...)\u001b[0m\n\u001b[0;32m    710\u001b[0m         query_attrs\u001b[38;5;241m=\u001b[39m\u001b[38;5;28mself\u001b[39m\u001b[38;5;241m.\u001b[39mquery_attrs,\n\u001b[0;32m    711\u001b[0m     )\n\u001b[0;32m    712\u001b[0m \u001b[38;5;28;01mexcept\u001b[39;00m MySQLInterfaceError \u001b[38;5;28;01mas\u001b[39;00m err:\n\u001b[1;32m--> 713\u001b[0m     \u001b[38;5;28;01mraise\u001b[39;00m get_mysql_exception(\n\u001b[0;32m    714\u001b[0m         err\u001b[38;5;241m.\u001b[39merrno, msg\u001b[38;5;241m=\u001b[39merr\u001b[38;5;241m.\u001b[39mmsg, sqlstate\u001b[38;5;241m=\u001b[39merr\u001b[38;5;241m.\u001b[39msqlstate\n\u001b[0;32m    715\u001b[0m     ) \u001b[38;5;28;01mfrom\u001b[39;00m \u001b[38;5;21;01merr\u001b[39;00m\n\u001b[0;32m    716\u001b[0m \u001b[38;5;28;01mexcept\u001b[39;00m \u001b[38;5;167;01mAttributeError\u001b[39;00m \u001b[38;5;28;01mas\u001b[39;00m err:\n\u001b[0;32m    717\u001b[0m     addr \u001b[38;5;241m=\u001b[39m (\n\u001b[0;32m    718\u001b[0m         \u001b[38;5;28mself\u001b[39m\u001b[38;5;241m.\u001b[39m_unix_socket \u001b[38;5;28;01mif\u001b[39;00m \u001b[38;5;28mself\u001b[39m\u001b[38;5;241m.\u001b[39m_unix_socket \u001b[38;5;28;01melse\u001b[39;00m \u001b[38;5;124mf\u001b[39m\u001b[38;5;124m\"\u001b[39m\u001b[38;5;132;01m{\u001b[39;00m\u001b[38;5;28mself\u001b[39m\u001b[38;5;241m.\u001b[39m_host\u001b[38;5;132;01m}\u001b[39;00m\u001b[38;5;124m:\u001b[39m\u001b[38;5;132;01m{\u001b[39;00m\u001b[38;5;28mself\u001b[39m\u001b[38;5;241m.\u001b[39m_port\u001b[38;5;132;01m}\u001b[39;00m\u001b[38;5;124m\"\u001b[39m\n\u001b[0;32m    719\u001b[0m     )\n",
            "\u001b[1;31mDatabaseError\u001b[0m: 1205 (HY000): Lock wait timeout exceeded; try restarting transaction"
          ]
        }
      ],
      "source": [
        "import mysql.connector\n",
        "\n",
        "# Connection to DB\n",
        "mydb = mysql.connector.connect(\n",
        "  host=\"localhost\",\n",
        "  user=\"root\",\n",
        "  port=\"3307\",\n",
        "  password=\"root\",\n",
        "  database=\"bookshop_db\"\n",
        ")\n",
        "\n",
        "\n",
        "# Get list of book to create summary\n",
        "mycursor = mydb.cursor()\n",
        "mycursor.execute(\"SELECT idBook, Description FROM book WHERE reassume IS NULL;\")\n",
        "myresult = mycursor.fetchall()\n",
        "\n",
        "\n",
        "\n",
        "for i in range(len(myresult)):\n",
        "  try: summary = summaryManager(myresult[i][1])\n",
        "  except: continue\n",
        "  if summary == \"\": continue \n",
        "  \n",
        "  # Insert SUMMARY\n",
        "  sql = 'UPDATE book SET reassume=\"' + summary + '\" WHERE idBook = ' + str(myresult[i][0]) + ' ;'\n",
        "  mycursor.execute(sql)\n",
        "  mydb.commit()\n",
        "\n",
        "\n",
        "mydb.close()"
      ]
    },
    {
      "cell_type": "markdown",
      "metadata": {},
      "source": [
        "## Clear DB"
      ]
    },
    {
      "cell_type": "code",
      "execution_count": 21,
      "metadata": {},
      "outputs": [
        {
          "name": "stdout",
          "output_type": "stream",
          "text": [
            "id 14   --- sql: UPDATE book SET reassume=NULL WHERE idBook = 14;\n",
            "id 16   --- sql: UPDATE book SET reassume=NULL WHERE idBook = 16;\n",
            "id 17   --- sql: UPDATE book SET reassume=NULL WHERE idBook = 17;\n",
            "id 23   --- sql: UPDATE book SET reassume=NULL WHERE idBook = 23;\n",
            "id 24   --- sql: UPDATE book SET reassume=NULL WHERE idBook = 24;\n",
            "id 25   --- sql: UPDATE book SET reassume=NULL WHERE idBook = 25;\n",
            "id 26   --- sql: UPDATE book SET reassume=NULL WHERE idBook = 26;\n",
            "id 27   --- sql: UPDATE book SET reassume=NULL WHERE idBook = 27;\n",
            "id 28   --- sql: UPDATE book SET reassume=NULL WHERE idBook = 28;\n",
            "id 29   --- sql: UPDATE book SET reassume=NULL WHERE idBook = 29;\n",
            "id 30   --- sql: UPDATE book SET reassume=NULL WHERE idBook = 30;\n",
            "id 31   --- sql: UPDATE book SET reassume=NULL WHERE idBook = 31;\n",
            "id 35   --- sql: UPDATE book SET reassume=NULL WHERE idBook = 35;\n"
          ]
        }
      ],
      "source": [
        "import mysql.connector\n",
        "\n",
        "# Connection to DB\n",
        "mydb = mysql.connector.connect(\n",
        "  host=\"localhost\",\n",
        "  user=\"root\",\n",
        "  port=\"3307\",\n",
        "  password=\"root\",\n",
        "  database=\"bookshop_db\"\n",
        ")\n",
        "\n",
        "\n",
        "# Get list of book to create summary\n",
        "mycursor = mydb.cursor()\n",
        "mycursor.execute(\"SELECT idBook, Description FROM book;\")\n",
        "myresult = mycursor.fetchall()\n",
        "\n",
        "\n",
        "\n",
        "\n",
        "for i in range(len(myresult)):\n",
        "    sql = \"UPDATE book SET reassume=NULL WHERE idBook = \" + str(myresult[i][0]) + \";\"\n",
        "\n",
        "    print(f\"id {myresult[i][0]}   --- sql: {sql}\")\n",
        "    mycursor.execute(sql)\n",
        "    mydb.commit()\n",
        "\n",
        "\n",
        "mydb.close()"
      ]
    }
  ],
  "metadata": {
    "colab": {
      "provenance": [],
      "toc_visible": true
    },
    "kernelspec": {
      "display_name": "Python 3",
      "name": "python3"
    },
    "language_info": {
      "codemirror_mode": {
        "name": "ipython",
        "version": 3
      },
      "file_extension": ".py",
      "mimetype": "text/x-python",
      "name": "python",
      "nbconvert_exporter": "python",
      "pygments_lexer": "ipython3",
      "version": "3.12.4"
    }
  },
  "nbformat": 4,
  "nbformat_minor": 0
}
